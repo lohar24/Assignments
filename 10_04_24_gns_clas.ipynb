{
 "cells": [
  {
   "cell_type": "code",
   "execution_count": 3,
   "id": "307a6db0",
   "metadata": {},
   "outputs": [
    {
     "name": "stdout",
     "output_type": "stream",
     "text": [
      "i5,16gb,1TB\n",
      "i5,16gb,1TB\n"
     ]
    }
   ],
   "source": [
    "# Class name: Computer, under this computer defined configuration of computer,def keyword,where you define function\n",
    "class computer:\n",
    "    def  config(self):\n",
    "         print(\"i5,16gb,1TB\")\n",
    "com1=computer()\n",
    "com2=computer()\n",
    "computer.config(com1)\n",
    "computer.config(com2)\n",
    "        \n",
    "        "
   ]
  },
  {
   "cell_type": "code",
   "execution_count": 6,
   "id": "8b4fbf1c",
   "metadata": {},
   "outputs": [
    {
     "name": "stdout",
     "output_type": "stream",
     "text": [
      "i5,16gb,1TB\n",
      "i5,16gb,1TB\n",
      "i5,16gb,1TB\n",
      "i5,16gb,1TB\n"
     ]
    }
   ],
   "source": [
    "class computer:\n",
    "    def  config(self):\n",
    "         print(\"i5,16gb,1TB\")\n",
    "com1=computer()\n",
    "com2=computer()\n",
    "com3=computer()\n",
    "com4=computer()\n",
    "computer.config(com1)\n",
    "computer.config(com2)\n",
    "computer.config(com1)\n",
    "computer.config(com2)"
   ]
  },
  {
   "cell_type": "code",
   "execution_count": 7,
   "id": "856dbd6a",
   "metadata": {},
   "outputs": [
    {
     "name": "stdout",
     "output_type": "stream",
     "text": [
      "64GB,1M\n",
      "64GB,1M\n",
      "64GB,1M\n",
      "64GB,1M\n"
     ]
    }
   ],
   "source": [
    "#64GB,1MB,CALL FOR THREE DIFFERENT OBJECTS\n",
    "class computer:\n",
    "    def  config(self):\n",
    "         print(\"64GB,1M\")\n",
    "com1=computer()\n",
    "com2=computer()\n",
    "com3=computer()\n",
    "com4=computer()\n",
    "computer.config(com1)\n",
    "computer.config(com2)\n",
    "computer.config(com1)\n",
    "computer.config(com2)"
   ]
  },
  {
   "cell_type": "code",
   "execution_count": 15,
   "id": "9f55b158",
   "metadata": {},
   "outputs": [
    {
     "name": "stdout",
     "output_type": "stream",
     "text": [
      "Honda\n",
      "civic\n"
     ]
    }
   ],
   "source": [
    "#create class by name mycar,hONDA,cartype=civic\n",
    "class mycar:\n",
    "    carName=\"Honda\"\n",
    "    carType=\"civic\"\n",
    "car1=mycar()\n",
    "print(car1.carName)\n",
    "print(car1.carType)"
   ]
  },
  {
   "cell_type": "code",
   "execution_count": 20,
   "id": "3c9d5caf",
   "metadata": {},
   "outputs": [
    {
     "name": "stdout",
     "output_type": "stream",
     "text": [
      "Honda\n",
      "civic\n",
      "civic\n",
      "Honda\n"
     ]
    }
   ],
   "source": [
    "class myCar:\n",
    "  carName = \"Honda\"\n",
    "  carType = \"civic\"\n",
    "car1 =myCar()\n",
    "car2 =mycar()\n",
    "print(car1.carName)\n",
    "print(car1.carType)\n",
    "print(car2.carType)\n",
    "print(car2.carName)\n",
    "\n"
   ]
  },
  {
   "cell_type": "code",
   "execution_count": 17,
   "id": "4f155d0c",
   "metadata": {},
   "outputs": [
    {
     "data": {
      "text/plain": [
       "'Honda'"
      ]
     },
     "execution_count": 17,
     "metadata": {},
     "output_type": "execute_result"
    }
   ],
   "source": [
    "car1.carName"
   ]
  },
  {
   "cell_type": "code",
   "execution_count": null,
   "id": "513225b7",
   "metadata": {},
   "outputs": [],
   "source": [
    " #CarName:BMW,carType:Brand"
   ]
  }
 ],
 "metadata": {
  "kernelspec": {
   "display_name": "Python 3 (ipykernel)",
   "language": "python",
   "name": "python3"
  },
  "language_info": {
   "codemirror_mode": {
    "name": "ipython",
    "version": 3
   },
   "file_extension": ".py",
   "mimetype": "text/x-python",
   "name": "python",
   "nbconvert_exporter": "python",
   "pygments_lexer": "ipython3",
   "version": "3.11.5"
  }
 },
 "nbformat": 4,
 "nbformat_minor": 5
}
